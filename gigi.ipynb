{
 "cells": [
  {
   "cell_type": "code",
   "execution_count": null,
   "metadata": {
    "scrolled": false
   },
   "outputs": [],
   "source": [
    "import pandas as pd\n",
    "\n",
    "nome_arquivo = input(\"Digite o nome do arquivo:\\n\")\n",
    "\n",
    "c = [\"Sepal Length\", \"Sepal Width\", \"Petal Length\", \"Petal Width\", \"Class\"]\n",
    "try:\n",
    "    df = pd.read_csv( nome_arquivo, names = c)\n",
    "except:\n",
    "    print(\"Arquivo nao existe.\\nSera criado:\")\n",
    "    df = pd.DataFrame(columns = c)[c]\n",
    "    \n",
    "menu = \"\"\"\n",
    "1 - visualizar\n",
    "2 - ordenar\n",
    "3 - alterar valor\n",
    "4 - adicionar dados\n",
    "5 - deletar linha\n",
    "6 - salvar arquivo\n",
    "7 - sair\n",
    "\"\"\"\n",
    "while True:\n",
    "    op = input(menu)\n",
    "    if op == \"1\":\n",
    "        print(df.to_string().strip(\"\\n\"))\n",
    "    elif op == \"2\":\n",
    "        col = input(\"Digite o nome de uma coluna: \\n\")\n",
    "        ordem = input(\"Digite a ordem, (1)crescente ou (2)decrescente. \\n\")\n",
    "\n",
    "        if ordem.lower() == \"crescente\" or ordem == \"1\":\n",
    "            df = df.sort_values(by = col, ascending = True)\n",
    "        else:\n",
    "            df = df.sort_values(by = col, ascending = False)\n",
    "        df.reset_index(inplace = True)\n",
    "    elif op == \"3\":\n",
    "        al = input(\"Digite linha, coluna e novo valor separados por espaço.\\n\").split(\" \")\n",
    "        df.iloc[int(al[0]), int(al[1])] = float(al[2])\n",
    "        \n",
    "    elif op == \"4\":\n",
    "        al = input(\"Digite o novos valores separados por espaço.\\n\").split(\" \")\n",
    "        for i in range (4):\n",
    "            al[i] = float(al[i])\n",
    "        df2 = pd.DataFrame([al], columns = c)[c]\n",
    "        print(df)\n",
    "        df = pd.concat([df, df2])\n",
    "        \n",
    "    elif op == \"5\":\n",
    "        liera = input(\"Linha que será apagada:\\n\")\n",
    "        df.drop(index = int(liera), inplace = True)\n",
    "        df.reset_index(inplace = True)\n",
    "        \n",
    "    elif op == \"6\":\n",
    "        df.to_csv(nome_arquivo, index = False, header = False)\n",
    "        print(\"Arquivo salvo.\")\n",
    "        \n",
    "    elif op == \"7\":\n",
    "        print(\"fim.\")\n",
    "        break\n",
    "    else:\n",
    "        print(\"Opcao invalida.\" + op + \".\")"
   ]
  },
  {
   "cell_type": "code",
   "execution_count": null,
   "metadata": {
    "scrolled": true
   },
   "outputs": [],
   "source": [
    "df.append(df2)"
   ]
  },
  {
   "cell_type": "code",
   "execution_count": null,
   "metadata": {},
   "outputs": [],
   "source": [
    "df.describe()"
   ]
  },
  {
   "cell_type": "code",
   "execution_count": null,
   "metadata": {},
   "outputs": [],
   "source": []
  }
 ],
 "metadata": {
  "kernelspec": {
   "display_name": "Python 3 (ipykernel)",
   "language": "python",
   "name": "python3"
  },
  "language_info": {
   "codemirror_mode": {
    "name": "ipython",
    "version": 3
   },
   "file_extension": ".py",
   "mimetype": "text/x-python",
   "name": "python",
   "nbconvert_exporter": "python",
   "pygments_lexer": "ipython3",
   "version": "3.11.3"
  }
 },
 "nbformat": 4,
 "nbformat_minor": 2
}
